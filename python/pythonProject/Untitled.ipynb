{
 "cells": [
  {
   "cell_type": "markdown",
   "id": "d5c87f08",
   "metadata": {},
   "source": [
    "# 1일차"
   ]
  },
  {
   "cell_type": "code",
   "execution_count": 2,
   "id": "4eb125c9",
   "metadata": {},
   "outputs": [
    {
     "name": "stdout",
     "output_type": "stream",
     "text": [
      "hi\n"
     ]
    }
   ],
   "source": [
    "print('hi')"
   ]
  },
  {
   "cell_type": "markdown",
   "id": "0d74493c",
   "metadata": {},
   "source": [
    "#list"
   ]
  },
  {
   "cell_type": "markdown",
   "id": "6efb659d",
   "metadata": {},
   "source": [
    "#특징은 수정삭제가 가능하며 인덱스로 데이터에 접근이 가능함"
   ]
  },
  {
   "cell_type": "code",
   "execution_count": 9,
   "id": "3d2385ef",
   "metadata": {},
   "outputs": [
    {
     "name": "stdout",
     "output_type": "stream",
     "text": [
      "hi\n",
      "Test\n"
     ]
    }
   ],
   "source": [
    "arr= [1, 'hi', True, 100]\n",
    "print(arr[1])\n",
    "arr[1]='Test'\n",
    "print(arr[1])"
   ]
  },
  {
   "cell_type": "code",
   "execution_count": 11,
   "id": "18398a9f",
   "metadata": {},
   "outputs": [
    {
     "name": "stdout",
     "output_type": "stream",
     "text": [
      "[1, 'Test', True, 100, 1000]\n"
     ]
    }
   ],
   "source": [
    "# 요소추가\n",
    "arr. append(1000)\n",
    "print(arr)"
   ]
  },
  {
   "cell_type": "markdown",
   "id": "0d13cf0b",
   "metadata": {},
   "source": [
    "# SET 중복이 허용되지 않는 자료구조"
   ]
  },
  {
   "cell_type": "code",
   "execution_count": 13,
   "id": "c022ad95",
   "metadata": {},
   "outputs": [
    {
     "name": "stdout",
     "output_type": "stream",
     "text": [
      "{1, 2, 3}\n"
     ]
    }
   ],
   "source": [
    "arr2 = {1, 1, 2, 2, 3, 3}\n",
    "print(arr2)"
   ]
  },
  {
   "cell_type": "code",
   "execution_count": 14,
   "id": "15afd7fb",
   "metadata": {},
   "outputs": [
    {
     "name": "stdout",
     "output_type": "stream",
     "text": [
      "<class 'set'>\n"
     ]
    }
   ],
   "source": [
    "arr3 = set()\n",
    "print(type(arr3))"
   ]
  },
  {
   "cell_type": "code",
   "execution_count": 15,
   "id": "2f970c64",
   "metadata": {},
   "outputs": [
    {
     "name": "stdout",
     "output_type": "stream",
     "text": [
      "<class 'dict'>\n"
     ]
    }
   ],
   "source": [
    "arr4 = {}\n",
    "print(type(arr4))"
   ]
  },
  {
   "cell_type": "code",
   "execution_count": 16,
   "id": "8d46fb87",
   "metadata": {},
   "outputs": [
    {
     "name": "stdout",
     "output_type": "stream",
     "text": [
      "8\n"
     ]
    }
   ],
   "source": [
    "import random\n",
    "ran = random.randint(1, 10)\n",
    "# 랜덤 정수 반환 1~ 10\n",
    "print(ran)"
   ]
  },
  {
   "cell_type": "markdown",
   "id": "6f9fcbd9",
   "metadata": {},
   "source": [
    "## 오늘의 문제\n",
    "### input 으로 숫자를 입력 받아 그 수량 만큼 로또번호(6개 숫자)를 출력하시오\n",
    "-> 6개 숫자에는 중복이 허용되지 않으며 1 ~ 45의 수를 가진다.\n",
    "-> ex) 6 < 입력(1,2,3,4,5,6},{1,45,3,4,5,6}..."
   ]
  },
  {
   "cell_type": "markdown",
   "id": "ae308bea",
   "metadata": {},
   "source": [
    "#while, for, set, len, input 등 사용"
   ]
  },
  {
   "cell_type": "code",
   "execution_count": 18,
   "id": "259383ca",
   "metadata": {},
   "outputs": [
    {
     "name": "stdout",
     "output_type": "stream",
     "text": [
      "5\n"
     ]
    }
   ],
   "source": [
    "#length 반환\n",
    "print(len(arr))"
   ]
  },
  {
   "cell_type": "code",
   "execution_count": 38,
   "id": "5a3f2e20",
   "metadata": {},
   "outputs": [
    {
     "name": "stdout",
     "output_type": "stream",
     "text": [
      "번호 몇 개 : 6\n",
      "[3, 14, 25, 29, 32, 34]\n",
      "[11, 20, 24, 36, 43, 45]\n",
      "[3, 5, 8, 20, 23, 35]\n",
      "[9, 13, 20, 21, 32, 43]\n",
      "[10, 11, 14, 16, 21, 28]\n",
      "[13, 20, 21, 33, 38, 41]\n"
     ]
    }
   ],
   "source": [
    "x = 0\n",
    "\n",
    "x = int(input(\"번호 몇 개 : \"))\n",
    "\n",
    "# 로또 번호 생성\n",
    "for i in range(x) :\n",
    "    lotto = random.sample(range(1, 46), 6) # range면 +1\n",
    "    lotto.sort()\n",
    "    print(lotto)"
   ]
  },
  {
   "cell_type": "code",
   "execution_count": 39,
   "id": "da1d10ee",
   "metadata": {},
   "outputs": [],
   "source": [
    "x = 0"
   ]
  },
  {
   "cell_type": "code",
   "execution_count": 40,
   "id": "676a596b",
   "metadata": {},
   "outputs": [
    {
     "name": "stdout",
     "output_type": "stream",
     "text": [
      "번호 몇 개 : 7\n",
      "[12, 17, 20, 27, 36, 42]\n",
      "[22, 23, 28, 35, 36, 45]\n",
      "[5, 12, 13, 24, 33, 34]\n",
      "[12, 16, 17, 26, 30, 39]\n",
      "[18, 21, 22, 27, 30, 37]\n",
      "[14, 17, 18, 31, 32, 38]\n",
      "[16, 17, 18, 29, 33, 35]\n"
     ]
    }
   ],
   "source": [
    "x = int(input(\"번호 몇 개 : \"))\n",
    "\n",
    "# 로또 번호 생성\n",
    "for i in range(x) :\n",
    "    lotto = random.sample(range(1, 46), 6) # range면 +1\n",
    "    lotto.sort()\n",
    "    print(lotto)"
   ]
  },
  {
   "cell_type": "code",
   "execution_count": 41,
   "id": "f3053f08",
   "metadata": {},
   "outputs": [
    {
     "name": "stdout",
     "output_type": "stream",
     "text": [
      "번호 몇 개 : 9\n",
      "[1, 15, 24, 25, 28, 34]\n",
      "[3, 7, 25, 35, 43, 44]\n",
      "[3, 12, 16, 26, 32, 37]\n",
      "[1, 3, 4, 11, 33, 41]\n",
      "[5, 7, 11, 19, 31, 34]\n",
      "[3, 17, 22, 31, 35, 36]\n",
      "[15, 30, 31, 38, 39, 43]\n",
      "[2, 16, 23, 37, 40, 42]\n",
      "[1, 11, 15, 25, 29, 35]\n"
     ]
    }
   ],
   "source": [
    "x = int(input(\"번호 몇 개 : \"))\n",
    "\n",
    "# 로또 번호 생성\n",
    "for i in range(x) :\n",
    "    lotto = random.sample(range(1, 46), 6) # range면 +1\n",
    "    lotto.sort()\n",
    "    print(lotto)"
   ]
  },
  {
   "cell_type": "code",
   "execution_count": null,
   "id": "f11b8ec4",
   "metadata": {},
   "outputs": [],
   "source": []
  }
 ],
 "metadata": {
  "kernelspec": {
   "display_name": "Python 3 (ipykernel)",
   "language": "python",
   "name": "python3"
  },
  "language_info": {
   "codemirror_mode": {
    "name": "ipython",
    "version": 3
   },
   "file_extension": ".py",
   "mimetype": "text/x-python",
   "name": "python",
   "nbconvert_exporter": "python",
   "pygments_lexer": "ipython3",
   "version": "3.8.13"
  }
 },
 "nbformat": 4,
 "nbformat_minor": 5
}
